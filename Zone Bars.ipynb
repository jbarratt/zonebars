{
 "metadata": {
  "name": "",
  "signature": "sha256:653e888c68fd4802d7b1b456829d49ac3b42767feacebd22c77f14ca4a618e6b"
 },
 "nbformat": 3,
 "nbformat_minor": 0,
 "worksheets": [
  {
   "cells": [
    {
     "cell_type": "markdown",
     "metadata": {},
     "source": [
      "Grab the python markov chain library. It needs to be installed from git, as per the [readme](https://github.com/riccardoscalco/Pykov)."
     ]
    },
    {
     "cell_type": "code",
     "collapsed": false,
     "input": [
      "import pykov"
     ],
     "language": "python",
     "metadata": {},
     "outputs": [],
     "prompt_number": 2
    },
    {
     "cell_type": "markdown",
     "metadata": {},
     "source": [
      "We need to calculate how often a certain transition happens. Given a bar type, what are the odds of it switching types?\n",
      "The first thing that requires is calculating that (which seems like it'd be a function of pykov, but whatevz.)"
     ]
    },
    {
     "cell_type": "code",
     "collapsed": false,
     "input": [
      "states = [x.strip() for x in open('data.txt').readlines()]\n",
      "states[0:3]"
     ],
     "language": "python",
     "metadata": {},
     "outputs": [
      {
       "metadata": {},
       "output_type": "pyout",
       "prompt_number": 5,
       "text": [
        "['FG', 'FG', 'FG']"
       ]
      }
     ],
     "prompt_number": 5
    },
    {
     "cell_type": "code",
     "collapsed": false,
     "input": [
      "from itertools import tee, izip\n",
      "def pairwise(iterable):\n",
      "    \"s -> (s0,s1), (s1,s2), (s2, s3), ...\"\n",
      "    a, b = tee(iterable)\n",
      "    next(b, None)\n",
      "    return izip(a, b)"
     ],
     "language": "python",
     "metadata": {},
     "outputs": [],
     "prompt_number": 8
    },
    {
     "cell_type": "code",
     "collapsed": false,
     "input": [
      "counts = {}\n",
      "for start, end in pairwise(states):\n",
      "    counts[start] = counts.get(start, {})\n",
      "    counts[start][end] = counts[start].get(end, 0) + 1\n",
      "counts"
     ],
     "language": "python",
     "metadata": {},
     "outputs": [
      {
       "metadata": {},
       "output_type": "pyout",
       "prompt_number": 21,
       "text": [
        "{'CPB': {'CPB': 11, 'FG': 2}, 'FG': {'CPB': 3, 'FG': 8}}"
       ]
      }
     ],
     "prompt_number": 21
    },
    {
     "cell_type": "markdown",
     "metadata": {},
     "source": [
      "Now we need to figure out normalized pairs that give the probability of each transition. So `(CPB, FG): .84`"
     ]
    },
    {
     "cell_type": "code",
     "collapsed": false,
     "input": [
      "transitions = {}\n",
      "for start in counts:\n",
      "    total = sum(counts[start].values())\n",
      "    for end in counts[start]:\n",
      "        transitions[(start,end)] = float(counts[start][end]) / total\n",
      "transitions"
     ],
     "language": "python",
     "metadata": {},
     "outputs": [
      {
       "metadata": {},
       "output_type": "pyout",
       "prompt_number": 23,
       "text": [
        "{('CPB', 'CPB'): 0.8461538461538461,\n",
        " ('CPB', 'FG'): 0.15384615384615385,\n",
        " ('FG', 'CPB'): 0.2727272727272727,\n",
        " ('FG', 'FG'): 0.7272727272727273}"
       ]
      }
     ],
     "prompt_number": 23
    },
    {
     "cell_type": "code",
     "collapsed": false,
     "input": [
      "t = pykov.Chain(transitions)\n",
      "t"
     ],
     "language": "python",
     "metadata": {},
     "outputs": [
      {
       "metadata": {},
       "output_type": "pyout",
       "prompt_number": 27,
       "text": [
        "Chain([(('CPB', 'FG'), 0.15384615384615385), (('FG', 'FG'), 0.7272727272727273), (('FG', 'CPB'), 0.2727272727272727), (('CPB', 'CPB'), 0.8461538461538461)])"
       ]
      }
     ],
     "prompt_number": 27
    },
    {
     "cell_type": "markdown",
     "metadata": {},
     "source": [
      "Now, given the chain and the current state, we can predict the next 30 bars."
     ]
    },
    {
     "cell_type": "code",
     "collapsed": false,
     "input": [
      "t.walk(30, 'CPB')"
     ],
     "language": "python",
     "metadata": {},
     "outputs": [
      {
       "metadata": {},
       "output_type": "pyout",
       "prompt_number": 29,
       "text": [
        "['CPB',\n",
        " 'CPB',\n",
        " 'CPB',\n",
        " 'CPB',\n",
        " 'CPB',\n",
        " 'CPB',\n",
        " 'CPB',\n",
        " 'CPB',\n",
        " 'FG',\n",
        " 'FG',\n",
        " 'FG',\n",
        " 'CPB',\n",
        " 'CPB',\n",
        " 'FG',\n",
        " 'FG',\n",
        " 'FG',\n",
        " 'FG',\n",
        " 'FG',\n",
        " 'FG',\n",
        " 'FG',\n",
        " 'FG',\n",
        " 'FG',\n",
        " 'FG',\n",
        " 'CPB',\n",
        " 'CPB',\n",
        " 'FG',\n",
        " 'FG',\n",
        " 'FG',\n",
        " 'FG',\n",
        " 'CPB',\n",
        " 'CPB']"
       ]
      }
     ],
     "prompt_number": 29
    },
    {
     "cell_type": "code",
     "collapsed": false,
     "input": [],
     "language": "python",
     "metadata": {},
     "outputs": []
    }
   ],
   "metadata": {}
  }
 ]
}