{
 "metadata": {
  "name": "",
  "signature": "sha256:2ec0aae4d5c950d5992cc51d467d984748424d525c596371486b3edde1ea06d5"
 },
 "nbformat": 3,
 "nbformat_minor": 0,
 "worksheets": [
  {
   "cells": [
    {
     "cell_type": "markdown",
     "metadata": {},
     "source": [
      "# Overengineered Zone Bar Prediction\n",
      "\n",
      "At our mutual place of employ, a co-worker started keeping track of what flavors of zone bars were being put in the snack basket, and was curious to see if, given the history of bars, he could predict what the future might look like.\n",
      "\n",
      "I was inspired to try and model this with a Markov chain, which I'd never used in 'real life' before, but had read about.\n",
      "\n",
      "There are 2 kinds of bars:\n",
      "* `FG`: Fudge Graham\n",
      "* `CPB`: Chocolate Peanut butter.\n",
      "\n",
      "The file `data.txt` has a list of bars from each day he checked the basket.\n",
      "\n",
      "To run this, you'll need to grab the python markov chain library. It needs to be installed from git, as per the [readme](https://github.com/riccardoscalco/Pykov)."
     ]
    },
    {
     "cell_type": "code",
     "collapsed": false,
     "input": [
      "import pykov"
     ],
     "language": "python",
     "metadata": {},
     "outputs": [],
     "prompt_number": 3
    },
    {
     "cell_type": "markdown",
     "metadata": {},
     "source": [
      "We need to calculate how often a certain transition happens. Given a bar type, what are the odds of it switching types?\n",
      "The first thing that requires is calculating that (which seems like it'd be a function of pykov, and probably is? But we can calculate by hand.)\n",
      "\n",
      "First step: Load all the bars into a list."
     ]
    },
    {
     "cell_type": "code",
     "collapsed": false,
     "input": [
      "states = [x.strip() for x in open('data.txt').readlines()]\n",
      "states[0:3]"
     ],
     "language": "python",
     "metadata": {},
     "outputs": [
      {
       "metadata": {},
       "output_type": "pyout",
       "prompt_number": 4,
       "text": [
        "['FG', 'FG', 'FG']"
       ]
      }
     ],
     "prompt_number": 4
    },
    {
     "cell_type": "markdown",
     "metadata": {},
     "source": [
      "So now we need to calulate how often certain kinds of transitions happen. Thankfully, there is an `itertools` recipe for doing this in the documentation. Given an iterable, it yeilds pairs, as described."
     ]
    },
    {
     "cell_type": "code",
     "collapsed": false,
     "input": [
      "from itertools import tee, izip\n",
      "def pairwise(iterable):\n",
      "    \"s -> (s0,s1), (s1,s2), (s2, s3), ...\"\n",
      "    a, b = tee(iterable)\n",
      "    next(b, None)\n",
      "    return izip(a, b)"
     ],
     "language": "python",
     "metadata": {},
     "outputs": [],
     "prompt_number": 5
    },
    {
     "cell_type": "markdown",
     "metadata": {},
     "source": [
      "Now, given each pair of bars, I get a raw tally of how many times it transitions from the first bar to the second bar."
     ]
    },
    {
     "cell_type": "code",
     "collapsed": false,
     "input": [
      "counts = {}\n",
      "for start, end in pairwise(states):\n",
      "    counts[start] = counts.get(start, {})\n",
      "    counts[start][end] = counts[start].get(end, 0) + 1\n",
      "counts"
     ],
     "language": "python",
     "metadata": {},
     "outputs": [
      {
       "metadata": {},
       "output_type": "pyout",
       "prompt_number": 6,
       "text": [
        "{'CPB': {'CPB': 11, 'FG': 2}, 'FG': {'CPB': 3, 'FG': 8}}"
       ]
      }
     ],
     "prompt_number": 6
    },
    {
     "cell_type": "markdown",
     "metadata": {},
     "source": [
      "`pykov` doesn't want counts, though, it wants a probability. \"`X`% of the time state `A` transitions to state `B`, and `Y`% of the time it transitions from state `A` to `C`, and so on. \n",
      "\n",
      "Now we need to figure out normalized pairs that give the probability of each transition. So `('CPB', 'CPB'): .84` can be read as \"84% of the time if it's a chocolate peanut butter bar, it'll be a chocolate peanut bar the next time.\""
     ]
    },
    {
     "cell_type": "code",
     "collapsed": false,
     "input": [
      "transitions = {}\n",
      "for start in counts:\n",
      "    total = sum(counts[start].values())\n",
      "    for end in counts[start]:\n",
      "        transitions[(start,end)] = float(counts[start][end]) / total\n",
      "transitions"
     ],
     "language": "python",
     "metadata": {},
     "outputs": [
      {
       "metadata": {},
       "output_type": "pyout",
       "prompt_number": 7,
       "text": [
        "{('CPB', 'CPB'): 0.8461538461538461,\n",
        " ('CPB', 'FG'): 0.15384615384615385,\n",
        " ('FG', 'CPB'): 0.2727272727272727,\n",
        " ('FG', 'FG'): 0.7272727272727273}"
       ]
      }
     ],
     "prompt_number": 7
    },
    {
     "cell_type": "markdown",
     "metadata": {},
     "source": [
      "This is the structure `pykov.Chain()` wants, so we can just create a new chain from it:"
     ]
    },
    {
     "cell_type": "code",
     "collapsed": false,
     "input": [
      "t = pykov.Chain(transitions)\n",
      "t"
     ],
     "language": "python",
     "metadata": {},
     "outputs": [
      {
       "metadata": {},
       "output_type": "pyout",
       "prompt_number": 8,
       "text": [
        "Chain([(('CPB', 'FG'), 0.15384615384615385), (('FG', 'FG'), 0.7272727272727273), (('FG', 'CPB'), 0.2727272727272727), (('CPB', 'CPB'), 0.8461538461538461)])"
       ]
      }
     ],
     "prompt_number": 8
    },
    {
     "cell_type": "markdown",
     "metadata": {},
     "source": [
      "Now, given the chain and the current state, we can see an example of what the next 15 bars may look like. Because it's random, if the cell is re-run multiple times, it'll be a different walk each time."
     ]
    },
    {
     "cell_type": "code",
     "collapsed": false,
     "input": [
      "t.walk(15, 'CPB')"
     ],
     "language": "python",
     "metadata": {},
     "outputs": [
      {
       "metadata": {},
       "output_type": "pyout",
       "prompt_number": 9,
       "text": [
        "['CPB',\n",
        " 'CPB',\n",
        " 'CPB',\n",
        " 'CPB',\n",
        " 'CPB',\n",
        " 'CPB',\n",
        " 'CPB',\n",
        " 'CPB',\n",
        " 'CPB',\n",
        " 'CPB',\n",
        " 'FG',\n",
        " 'FG',\n",
        " 'FG',\n",
        " 'FG',\n",
        " 'FG',\n",
        " 'CPB']"
       ]
      }
     ],
     "prompt_number": 9
    },
    {
     "cell_type": "markdown",
     "metadata": {},
     "source": [
      "If you were really hoping for a rush of the fudge bars, you can model out what the relative possibilities of various scenarios are, too:"
     ]
    },
    {
     "cell_type": "code",
     "collapsed": false,
     "input": [
      "import math\n",
      "\n",
      "for scenario in [['CPB'] * 3, ['FG'] * 3, ['FG', 'CPB', 'FG'], ['FG']*7, ['CPB']*7]:\n",
      "    print \"{}: {}\".format(scenario, math.exp(t.walk_probability(scenario)))"
     ],
     "language": "python",
     "metadata": {},
     "outputs": [
      {
       "output_type": "stream",
       "stream": "stdout",
       "text": [
        "['CPB', 'CPB', 'CPB']: 0.715976331361\n",
        "['FG', 'FG', 'FG']: 0.528925619835\n",
        "['FG', 'CPB', 'FG']: 0.041958041958\n",
        "['FG', 'FG', 'FG', 'FG', 'FG', 'FG', 'FG']: 0.14797345392\n",
        "['CPB', 'CPB', 'CPB', 'CPB', 'CPB', 'CPB', 'CPB']: 0.367025295594\n"
       ]
      }
     ],
     "prompt_number": 22
    },
    {
     "cell_type": "markdown",
     "metadata": {},
     "source": [
      "You can see that streaks of `CPB` of any length are more likely that streaks of `FG`, but neither is terribly improbable; but flip flops between types of bars is really unlikely.\n",
      "\n",
      "I'm not sure exactly what the units are here, clearly it's not strict probability."
     ]
    }
   ],
   "metadata": {}
  }
 ]
}